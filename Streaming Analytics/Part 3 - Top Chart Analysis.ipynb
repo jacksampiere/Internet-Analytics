{
 "cells": [
  {
   "cell_type": "code",
   "execution_count": 1,
   "id": "0211a76e",
   "metadata": {},
   "outputs": [],
   "source": [
    "import pandas as pd\n",
    "from pandas.tseries.holiday import USFederalHolidayCalendar as calendar\n",
    "import numpy as np\n",
    "import statsmodels.api as sm\n",
    "import matplotlib.pyplot as plt"
   ]
  },
  {
   "cell_type": "code",
   "execution_count": 2,
   "id": "bda56931",
   "metadata": {
    "scrolled": false
   },
   "outputs": [
    {
     "data": {
      "text/html": [
       "<div>\n",
       "<style scoped>\n",
       "    .dataframe tbody tr th:only-of-type {\n",
       "        vertical-align: middle;\n",
       "    }\n",
       "\n",
       "    .dataframe tbody tr th {\n",
       "        vertical-align: top;\n",
       "    }\n",
       "\n",
       "    .dataframe thead th {\n",
       "        text-align: right;\n",
       "    }\n",
       "</style>\n",
       "<table border=\"1\" class=\"dataframe\">\n",
       "  <thead>\n",
       "    <tr style=\"text-align: right;\">\n",
       "      <th></th>\n",
       "      <th>region</th>\n",
       "      <th>date</th>\n",
       "      <th>Position</th>\n",
       "      <th>Track Name</th>\n",
       "      <th>Artist</th>\n",
       "      <th>Streams</th>\n",
       "      <th>URL</th>\n",
       "      <th>log_streams</th>\n",
       "      <th>top_50</th>\n",
       "    </tr>\n",
       "  </thead>\n",
       "  <tbody>\n",
       "    <tr>\n",
       "      <th>0</th>\n",
       "      <td>global</td>\n",
       "      <td>2017-06-29</td>\n",
       "      <td>1</td>\n",
       "      <td>Despacito - Remix</td>\n",
       "      <td>Luis Fonsi</td>\n",
       "      <td>5945441</td>\n",
       "      <td>https://open.spotify.com/track/5CtI0qwDJkDQGwX...</td>\n",
       "      <td>15.598135</td>\n",
       "      <td>1</td>\n",
       "    </tr>\n",
       "    <tr>\n",
       "      <th>1</th>\n",
       "      <td>global</td>\n",
       "      <td>2017-06-29</td>\n",
       "      <td>2</td>\n",
       "      <td>Wild Thoughts (feat. Rihanna &amp; Bryson Tiller)</td>\n",
       "      <td>DJ Khaled</td>\n",
       "      <td>4496288</td>\n",
       "      <td>https://open.spotify.com/track/1OAh8uOEOvTDqkK...</td>\n",
       "      <td>15.318763</td>\n",
       "      <td>1</td>\n",
       "    </tr>\n",
       "    <tr>\n",
       "      <th>2</th>\n",
       "      <td>global</td>\n",
       "      <td>2017-06-29</td>\n",
       "      <td>3</td>\n",
       "      <td>I'm the One (feat. Justin Bieber, Quavo, Chanc...</td>\n",
       "      <td>DJ Khaled</td>\n",
       "      <td>4291359</td>\n",
       "      <td>https://open.spotify.com/track/3DXncPQOG4VBw3Q...</td>\n",
       "      <td>15.272114</td>\n",
       "      <td>1</td>\n",
       "    </tr>\n",
       "    <tr>\n",
       "      <th>3</th>\n",
       "      <td>global</td>\n",
       "      <td>2017-06-29</td>\n",
       "      <td>4</td>\n",
       "      <td>2U (feat. Justin Bieber)</td>\n",
       "      <td>David Guetta</td>\n",
       "      <td>3849460</td>\n",
       "      <td>https://open.spotify.com/track/3A7qX2QjDlPnazU...</td>\n",
       "      <td>15.163443</td>\n",
       "      <td>1</td>\n",
       "    </tr>\n",
       "    <tr>\n",
       "      <th>4</th>\n",
       "      <td>global</td>\n",
       "      <td>2017-06-29</td>\n",
       "      <td>5</td>\n",
       "      <td>Shape of You</td>\n",
       "      <td>Ed Sheeran</td>\n",
       "      <td>3492692</td>\n",
       "      <td>https://open.spotify.com/track/7qiZfU4dY1lWllz...</td>\n",
       "      <td>15.066183</td>\n",
       "      <td>1</td>\n",
       "    </tr>\n",
       "    <tr>\n",
       "      <th>...</th>\n",
       "      <td>...</td>\n",
       "      <td>...</td>\n",
       "      <td>...</td>\n",
       "      <td>...</td>\n",
       "      <td>...</td>\n",
       "      <td>...</td>\n",
       "      <td>...</td>\n",
       "      <td>...</td>\n",
       "      <td>...</td>\n",
       "    </tr>\n",
       "    <tr>\n",
       "      <th>42377</th>\n",
       "      <td>global</td>\n",
       "      <td>2018-01-26</td>\n",
       "      <td>196</td>\n",
       "      <td>Redbone</td>\n",
       "      <td>Childish Gambino</td>\n",
       "      <td>623117</td>\n",
       "      <td>https://open.spotify.com/track/3kxfsdsCpFgN412...</td>\n",
       "      <td>13.342490</td>\n",
       "      <td>0</td>\n",
       "    </tr>\n",
       "    <tr>\n",
       "      <th>42378</th>\n",
       "      <td>global</td>\n",
       "      <td>2018-01-26</td>\n",
       "      <td>197</td>\n",
       "      <td>The Weekend - Funk Wav Remix</td>\n",
       "      <td>SZA</td>\n",
       "      <td>614714</td>\n",
       "      <td>https://open.spotify.com/track/0P6AWOA4LG1XOct...</td>\n",
       "      <td>13.328912</td>\n",
       "      <td>0</td>\n",
       "    </tr>\n",
       "    <tr>\n",
       "      <th>42379</th>\n",
       "      <td>global</td>\n",
       "      <td>2018-01-26</td>\n",
       "      <td>198</td>\n",
       "      <td>Stay</td>\n",
       "      <td>Zedd</td>\n",
       "      <td>612468</td>\n",
       "      <td>https://open.spotify.com/track/0I20rLT2MJDhcF9...</td>\n",
       "      <td>13.325252</td>\n",
       "      <td>0</td>\n",
       "    </tr>\n",
       "    <tr>\n",
       "      <th>42380</th>\n",
       "      <td>global</td>\n",
       "      <td>2018-01-26</td>\n",
       "      <td>199</td>\n",
       "      <td>From Now On</td>\n",
       "      <td>Hugh Jackman</td>\n",
       "      <td>610407</td>\n",
       "      <td>https://open.spotify.com/track/3IkWmgGsXbsafru...</td>\n",
       "      <td>13.321881</td>\n",
       "      <td>0</td>\n",
       "    </tr>\n",
       "    <tr>\n",
       "      <th>42381</th>\n",
       "      <td>global</td>\n",
       "      <td>2018-01-26</td>\n",
       "      <td>200</td>\n",
       "      <td>Explícale (feat. Bad Bunny)</td>\n",
       "      <td>Yandel</td>\n",
       "      <td>607797</td>\n",
       "      <td>https://open.spotify.com/track/1LszjjoVwDDZcWU...</td>\n",
       "      <td>13.317596</td>\n",
       "      <td>0</td>\n",
       "    </tr>\n",
       "  </tbody>\n",
       "</table>\n",
       "<p>42382 rows × 9 columns</p>\n",
       "</div>"
      ],
      "text/plain": [
       "       region        date  Position  \\\n",
       "0      global  2017-06-29         1   \n",
       "1      global  2017-06-29         2   \n",
       "2      global  2017-06-29         3   \n",
       "3      global  2017-06-29         4   \n",
       "4      global  2017-06-29         5   \n",
       "...       ...         ...       ...   \n",
       "42377  global  2018-01-26       196   \n",
       "42378  global  2018-01-26       197   \n",
       "42379  global  2018-01-26       198   \n",
       "42380  global  2018-01-26       199   \n",
       "42381  global  2018-01-26       200   \n",
       "\n",
       "                                              Track Name            Artist  \\\n",
       "0                                      Despacito - Remix        Luis Fonsi   \n",
       "1          Wild Thoughts (feat. Rihanna & Bryson Tiller)         DJ Khaled   \n",
       "2      I'm the One (feat. Justin Bieber, Quavo, Chanc...         DJ Khaled   \n",
       "3                               2U (feat. Justin Bieber)      David Guetta   \n",
       "4                                           Shape of You        Ed Sheeran   \n",
       "...                                                  ...               ...   \n",
       "42377                                            Redbone  Childish Gambino   \n",
       "42378                       The Weekend - Funk Wav Remix               SZA   \n",
       "42379                                               Stay              Zedd   \n",
       "42380                                        From Now On      Hugh Jackman   \n",
       "42381                        Explícale (feat. Bad Bunny)            Yandel   \n",
       "\n",
       "       Streams                                                URL  \\\n",
       "0      5945441  https://open.spotify.com/track/5CtI0qwDJkDQGwX...   \n",
       "1      4496288  https://open.spotify.com/track/1OAh8uOEOvTDqkK...   \n",
       "2      4291359  https://open.spotify.com/track/3DXncPQOG4VBw3Q...   \n",
       "3      3849460  https://open.spotify.com/track/3A7qX2QjDlPnazU...   \n",
       "4      3492692  https://open.spotify.com/track/7qiZfU4dY1lWllz...   \n",
       "...        ...                                                ...   \n",
       "42377   623117  https://open.spotify.com/track/3kxfsdsCpFgN412...   \n",
       "42378   614714  https://open.spotify.com/track/0P6AWOA4LG1XOct...   \n",
       "42379   612468  https://open.spotify.com/track/0I20rLT2MJDhcF9...   \n",
       "42380   610407  https://open.spotify.com/track/3IkWmgGsXbsafru...   \n",
       "42381   607797  https://open.spotify.com/track/1LszjjoVwDDZcWU...   \n",
       "\n",
       "       log_streams  top_50  \n",
       "0        15.598135       1  \n",
       "1        15.318763       1  \n",
       "2        15.272114       1  \n",
       "3        15.163443       1  \n",
       "4        15.066183       1  \n",
       "...            ...     ...  \n",
       "42377    13.342490       0  \n",
       "42378    13.328912       0  \n",
       "42379    13.325252       0  \n",
       "42380    13.321881       0  \n",
       "42381    13.317596       0  \n",
       "\n",
       "[42382 rows x 9 columns]"
      ]
     },
     "execution_count": 2,
     "metadata": {},
     "output_type": "execute_result"
    }
   ],
   "source": [
    "file_global = 'spotifycharts_20170629to20180126_global.csv'\n",
    "\n",
    "df = pd.read_csv(file_global)\n",
    "# add column of log-transformed streams\n",
    "df['log_streams'] = np.log(df['Streams'])\n",
    "# add top 50 indicator variable\n",
    "df['top_50'] = (df['Position'] <= 50).astype(int)\n",
    "df"
   ]
  },
  {
   "cell_type": "markdown",
   "id": "79c6d557",
   "metadata": {},
   "source": [
    "(a)"
   ]
  },
  {
   "cell_type": "code",
   "execution_count": 3,
   "id": "02f32aff",
   "metadata": {},
   "outputs": [
    {
     "name": "stdout",
     "output_type": "stream",
     "text": [
      "                            OLS Regression Results                            \n",
      "==============================================================================\n",
      "Dep. Variable:            log_streams   R-squared:                       0.708\n",
      "Model:                            OLS   Adj. R-squared:                  0.708\n",
      "Method:                 Least Squares   F-statistic:                 1.026e+05\n",
      "Date:                Thu, 18 Nov 2021   Prob (F-statistic):               0.00\n",
      "Time:                        14:42:10   Log-Likelihood:                -8150.0\n",
      "No. Observations:               42382   AIC:                         1.630e+04\n",
      "Df Residuals:                   42380   BIC:                         1.632e+04\n",
      "Df Model:                           1                                         \n",
      "Covariance Type:            nonrobust                                         \n",
      "==============================================================================\n",
      "                 coef    std err          t      P>|t|      [0.025      0.975]\n",
      "------------------------------------------------------------------------------\n",
      "const         13.4247      0.002   8162.163      0.000      13.422      13.428\n",
      "top_50         1.0540      0.003    320.261      0.000       1.048       1.060\n",
      "==============================================================================\n",
      "Omnibus:                     1776.967   Durbin-Watson:                   0.181\n",
      "Prob(Omnibus):                  0.000   Jarque-Bera (JB):             1989.148\n",
      "Skew:                           0.525   Prob(JB):                         0.00\n",
      "Kurtosis:                       2.841   Cond. No.                         2.48\n",
      "==============================================================================\n",
      "\n",
      "Notes:\n",
      "[1] Standard Errors assume that the covariance matrix of the errors is correctly specified.\n"
     ]
    }
   ],
   "source": [
    "# regression of streams on top 50 inclusion\n",
    "X = df['top_50']\n",
    "y = df['log_streams']\n",
    "X = sm.add_constant(X)\n",
    "lr = sm.OLS(y, X)\n",
    "results = lr.fit()\n",
    "print(results.summary())"
   ]
  },
  {
   "cell_type": "markdown",
   "id": "baf30985",
   "metadata": {},
   "source": [
    "(b)"
   ]
  },
  {
   "cell_type": "markdown",
   "id": "35664deb",
   "metadata": {},
   "source": [
    "Supplmementing the data with controls:"
   ]
  },
  {
   "cell_type": "code",
   "execution_count": 4,
   "id": "d5bd9297",
   "metadata": {},
   "outputs": [],
   "source": [
    "# total daily streams of top 50 (were more people listening to popular music on that day?)\n",
    "df_50 = df[df['Position'] <= 50]\n",
    "df_tot_50 = df_50[['date', 'Streams']].groupby('date').sum().reset_index().rename(columns={'Streams': 'top_50_streams'})\n",
    "df = pd.merge(df, df_tot_50, how='left', on='date')\n",
    "\n",
    "# total daily streams of top 200 (were more people listening to music on that day?)\n",
    "# note that more than the top 200 would have been helpful here\n",
    "df_tot_200 = df[['date', 'Streams']].groupby('date').sum().reset_index().rename(columns={'Streams':'top_200_streams'})\n",
    "df = pd.merge(df, df_tot_200, how='left', on='date')\n",
    "\n",
    "# these 2 dummies account more for differences in individual days as opposed to days of the week\n",
    "# could also add top_10_streams, top_5_streams, etc.\n",
    "\n",
    "# add feature indicator\n",
    "df['feature'] = (df['Track Name'].apply(lambda x: 'feat' in x.lower())).astype(int)\n",
    "# add remix indicator\n",
    "df['remix'] = df['Track Name'].apply(lambda x: 'remix' in x.lower()).astype(int)\n",
    "\n",
    "# convert date to datetime\n",
    "df['date'] = pd.to_datetime(df['date'], format='%Y-%m-%d')\n",
    "\n",
    "# add day fixed effects\n",
    "df['Day of Week'] = df['date'].dt.day_name() # get day of week\n",
    "df = pd.get_dummies(df, columns=['Day of Week'], prefix='d')\n",
    "df = df.drop(columns=['d_Sunday']) # drop Sunday since generally has the least streams\n",
    "\n",
    "# add month fixed effects\n",
    "df['Month'] = df['date'].dt.month_name() # get day of week\n",
    "df = pd.get_dummies(df, columns=['Month'], prefix='m')\n",
    "df = df.drop(columns=['m_July']) # didn't want to drop June since we only have the 29th and 30th\n",
    "\n",
    "# add holiday dummy\n",
    "cal = calendar()\n",
    "holidays = cal.holidays(start=df['date'].min(), end=df['date'].max())\n",
    "# 2017-10-09 and 2018-01-15 are not holidays; 2017-10-31 is\n",
    "holidays = list(holidays) # convert to list for mutability\n",
    "holidays.remove(pd.to_datetime('2017-10-09', format='%Y-%m-%d'))\n",
    "holidays.remove(pd.to_datetime('2018-01-15', format='%Y-%m-%d'))\n",
    "holidays.append(pd.to_datetime('2017-10-31', format='%Y-%m-%d'))\n",
    "df['holiday'] = df['date'].isin(holidays).astype(int)"
   ]
  },
  {
   "cell_type": "markdown",
   "id": "909892fd",
   "metadata": {},
   "source": [
    "Assessing need for transformations and applying them if necessary:"
   ]
  },
  {
   "cell_type": "code",
   "execution_count": 5,
   "id": "e1857e3d",
   "metadata": {},
   "outputs": [
    {
     "data": {
      "image/png": "[encoded data removed]",
      "text/plain": [
       "<Figure size 576x360 with 1 Axes>"
      ]
     },
     "metadata": {
      "needs_background": "light"
     },
     "output_type": "display_data"
    },
    {
     "data": {
      "image/png": "[encoded data removed]",
      "text/plain": [
       "<Figure size 576x360 with 1 Axes>"
      ]
     },
     "metadata": {
      "needs_background": "light"
     },
     "output_type": "display_data"
    },
    {
     "data": {
      "image/png": "[encoded data removed]",
      "text/plain": [
       "<Figure size 576x360 with 1 Axes>"
      ]
     },
     "metadata": {
      "needs_background": "light"
     },
     "output_type": "display_data"
    },
    {
     "data": {
      "image/png": "[encoded data removed]",
      "text/plain": [
       "<Figure size 576x360 with 1 Axes>"
      ]
     },
     "metadata": {
      "needs_background": "light"
     },
     "output_type": "display_data"
    }
   ],
   "source": [
    "plt.figure(figsize=(8,5))\n",
    "plt.hist(df['top_50_streams'], bins=25)\n",
    "plt.title('Distribution of Streams (Top 50)')\n",
    "plt.xlabel('Number of Streams')\n",
    "plt.ylabel('Frequency')\n",
    "plt.show()\n",
    "\n",
    "plt.figure(figsize=(8,5))\n",
    "plt.hist(np.log(df['top_50_streams']), bins=25)\n",
    "plt.title('Distribution of Log Streams (Top 50)')\n",
    "plt.xlabel('Log of Number of Streams')\n",
    "plt.ylabel('Frequency')\n",
    "plt.show()\n",
    "\n",
    "plt.figure(figsize=(8,5))\n",
    "plt.hist(df['top_200_streams'], bins=25)\n",
    "plt.title('Distribution of Streams (Top 200)')\n",
    "plt.xlabel('Number of Streams')\n",
    "plt.ylabel('Frequency')\n",
    "plt.show()\n",
    "\n",
    "plt.figure(figsize=(8,5))\n",
    "plt.hist(np.log(df['top_200_streams']), bins=25)\n",
    "plt.title('Distribution of Log of Streams (Top 200)')\n",
    "plt.xlabel('Log of Number of Streams')\n",
    "plt.ylabel('Frequency')\n",
    "plt.show()"
   ]
  },
  {
   "cell_type": "code",
   "execution_count": 6,
   "id": "42f15b71",
   "metadata": {},
   "outputs": [],
   "source": [
    "# log transforming top streams (use these since since still ~normally distributed and help interpretability)\n",
    "df['log_top_50_streams'] = np.log(df['top_50_streams'])\n",
    "df['log_top_200_streams'] = np.log(df['top_200_streams'])"
   ]
  },
  {
   "cell_type": "code",
   "execution_count": 7,
   "id": "fc962562",
   "metadata": {
    "scrolled": false
   },
   "outputs": [
    {
     "name": "stdout",
     "output_type": "stream",
     "text": [
      "                            OLS Regression Results                            \n",
      "==============================================================================\n",
      "Dep. Variable:            log_streams   R-squared:                       0.729\n",
      "Model:                            OLS   Adj. R-squared:                  0.729\n",
      "Method:                 Least Squares   F-statistic:                     5988.\n",
      "Date:                Thu, 18 Nov 2021   Prob (F-statistic):               0.00\n",
      "Time:                        14:42:11   Log-Likelihood:                -6565.1\n",
      "No. Observations:               42382   AIC:                         1.317e+04\n",
      "Df Residuals:                   42362   BIC:                         1.334e+04\n",
      "Df Model:                          19                                         \n",
      "Covariance Type:            nonrobust                                         \n",
      "=======================================================================================\n",
      "                          coef    std err          t      P>|t|      [0.025      0.975]\n",
      "---------------------------------------------------------------------------------------\n",
      "const                  -5.9953      0.585    -10.256      0.000      -7.141      -4.850\n",
      "top_50                  1.0557      0.003    332.400      0.000       1.049       1.062\n",
      "log_top_50_streams     -0.5876      0.092     -6.361      0.000      -0.769      -0.407\n",
      "log_top_200_streams     1.5796      0.094     16.799      0.000       1.395       1.764\n",
      "feature                 0.0046      0.003      1.387      0.166      -0.002       0.011\n",
      "remix                   0.0791      0.007     10.636      0.000       0.065       0.094\n",
      "holiday                -0.0005      0.008     -0.064      0.949      -0.016       0.015\n",
      "d_Friday                0.0011      0.007      0.165      0.869      -0.012       0.014\n",
      "d_Monday                0.0008      0.005      0.150      0.881      -0.010       0.012\n",
      "d_Saturday          -7.743e-05      0.006     -0.013      0.990      -0.012       0.012\n",
      "d_Thursday              0.0018      0.006      0.311      0.756      -0.010       0.013\n",
      "d_Tuesday               0.0008      0.006      0.149      0.881      -0.010       0.012\n",
      "d_Wednesday             0.0010      0.006      0.171      0.864      -0.010       0.012\n",
      "m_August              7.63e-05      0.006      0.013      0.989      -0.011       0.011\n",
      "m_December             -0.0011      0.013     -0.087      0.931      -0.026       0.024\n",
      "m_January              -0.0020      0.012     -0.167      0.868      -0.026       0.022\n",
      "m_June                  0.0014      0.015      0.093      0.926      -0.028       0.030\n",
      "m_November             -0.0020      0.008     -0.242      0.809      -0.019       0.014\n",
      "m_October              -0.0002      0.007     -0.035      0.972      -0.014       0.014\n",
      "m_September             0.0034      0.005      0.631      0.528      -0.007       0.014\n",
      "==============================================================================\n",
      "Omnibus:                     2261.478   Durbin-Watson:                   0.199\n",
      "Prob(Omnibus):                  0.000   Jarque-Bera (JB):             2637.150\n",
      "Skew:                           0.609   Prob(JB):                         0.00\n",
      "Kurtosis:                       2.898   Cond. No.                     1.14e+04\n",
      "==============================================================================\n",
      "\n",
      "Notes:\n",
      "[1] Standard Errors assume that the covariance matrix of the errors is correctly specified.\n",
      "[2] The condition number is large, 1.14e+04. This might indicate that there are\n",
      "strong multicollinearity or other numerical problems.\n"
     ]
    }
   ],
   "source": [
    "# regression of streams on top 50 inclusion with controls\n",
    "day_fe = [col for col in df.columns if col.startswith('d_')]\n",
    "month_fe = [col for col in df.columns if col.startswith('m_')]\n",
    "X = df[['top_50', 'log_top_50_streams', 'log_top_200_streams', 'feature', 'remix', 'holiday'] + day_fe + month_fe]\n",
    "X = sm.add_constant(X)\n",
    "y = df['log_streams']\n",
    "lr = sm.OLS(y, X)\n",
    "results = lr.fit()\n",
    "print(results.summary())"
   ]
  },
  {
   "cell_type": "markdown",
   "id": "56fd6f56",
   "metadata": {},
   "source": [
    "Not that this is NOT the optimal approach for determining the effect on streams of inclusion in the top 50--see part 4."
   ]
  }
 ],
 "metadata": {
  "kernelspec": {
   "display_name": "Python 3",
   "language": "python",
   "name": "python3"
  },
  "language_info": {
   "codemirror_mode": {
    "name": "ipython",
    "version": 3
   },
   "file_extension": ".py",
   "mimetype": "text/x-python",
   "name": "python",
   "nbconvert_exporter": "python",
   "pygments_lexer": "ipython3",
   "version": "3.7.10"
  }
 },
 "nbformat": 4,
 "nbformat_minor": 5
}
