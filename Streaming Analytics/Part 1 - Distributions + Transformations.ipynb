{
 "cells": [
  {
   "cell_type": "code",
   "execution_count": 42,
   "id": "0211a76e",
   "metadata": {},
   "outputs": [],
   "source": [
    "import pandas as pd\n",
    "import numpy as np\n",
    "from scipy.stats import boxcox\n",
    "import matplotlib.pyplot as plt"
   ]
  },
  {
   "cell_type": "code",
   "execution_count": 3,
   "id": "bda56931",
   "metadata": {},
   "outputs": [
    {
     "data": {
      "text/html": [
       "<div>\n",
       "<style scoped>\n",
       "    .dataframe tbody tr th:only-of-type {\n",
       "        vertical-align: middle;\n",
       "    }\n",
       "\n",
       "    .dataframe tbody tr th {\n",
       "        vertical-align: top;\n",
       "    }\n",
       "\n",
       "    .dataframe thead th {\n",
       "        text-align: right;\n",
       "    }\n",
       "</style>\n",
       "<table border=\"1\" class=\"dataframe\">\n",
       "  <thead>\n",
       "    <tr style=\"text-align: right;\">\n",
       "      <th></th>\n",
       "      <th>region</th>\n",
       "      <th>date</th>\n",
       "      <th>Position</th>\n",
       "      <th>Track Name</th>\n",
       "      <th>Artist</th>\n",
       "      <th>Streams</th>\n",
       "      <th>URL</th>\n",
       "    </tr>\n",
       "  </thead>\n",
       "  <tbody>\n",
       "    <tr>\n",
       "      <th>0</th>\n",
       "      <td>global</td>\n",
       "      <td>2017-06-29</td>\n",
       "      <td>1</td>\n",
       "      <td>Despacito - Remix</td>\n",
       "      <td>Luis Fonsi</td>\n",
       "      <td>5945441</td>\n",
       "      <td>https://open.spotify.com/track/5CtI0qwDJkDQGwX...</td>\n",
       "    </tr>\n",
       "    <tr>\n",
       "      <th>1</th>\n",
       "      <td>global</td>\n",
       "      <td>2017-06-29</td>\n",
       "      <td>2</td>\n",
       "      <td>Wild Thoughts (feat. Rihanna &amp; Bryson Tiller)</td>\n",
       "      <td>DJ Khaled</td>\n",
       "      <td>4496288</td>\n",
       "      <td>https://open.spotify.com/track/1OAh8uOEOvTDqkK...</td>\n",
       "    </tr>\n",
       "    <tr>\n",
       "      <th>2</th>\n",
       "      <td>global</td>\n",
       "      <td>2017-06-29</td>\n",
       "      <td>3</td>\n",
       "      <td>I'm the One (feat. Justin Bieber, Quavo, Chanc...</td>\n",
       "      <td>DJ Khaled</td>\n",
       "      <td>4291359</td>\n",
       "      <td>https://open.spotify.com/track/3DXncPQOG4VBw3Q...</td>\n",
       "    </tr>\n",
       "    <tr>\n",
       "      <th>3</th>\n",
       "      <td>global</td>\n",
       "      <td>2017-06-29</td>\n",
       "      <td>4</td>\n",
       "      <td>2U (feat. Justin Bieber)</td>\n",
       "      <td>David Guetta</td>\n",
       "      <td>3849460</td>\n",
       "      <td>https://open.spotify.com/track/3A7qX2QjDlPnazU...</td>\n",
       "    </tr>\n",
       "    <tr>\n",
       "      <th>4</th>\n",
       "      <td>global</td>\n",
       "      <td>2017-06-29</td>\n",
       "      <td>5</td>\n",
       "      <td>Shape of You</td>\n",
       "      <td>Ed Sheeran</td>\n",
       "      <td>3492692</td>\n",
       "      <td>https://open.spotify.com/track/7qiZfU4dY1lWllz...</td>\n",
       "    </tr>\n",
       "    <tr>\n",
       "      <th>...</th>\n",
       "      <td>...</td>\n",
       "      <td>...</td>\n",
       "      <td>...</td>\n",
       "      <td>...</td>\n",
       "      <td>...</td>\n",
       "      <td>...</td>\n",
       "      <td>...</td>\n",
       "    </tr>\n",
       "    <tr>\n",
       "      <th>42377</th>\n",
       "      <td>global</td>\n",
       "      <td>2018-01-26</td>\n",
       "      <td>196</td>\n",
       "      <td>Redbone</td>\n",
       "      <td>Childish Gambino</td>\n",
       "      <td>623117</td>\n",
       "      <td>https://open.spotify.com/track/3kxfsdsCpFgN412...</td>\n",
       "    </tr>\n",
       "    <tr>\n",
       "      <th>42378</th>\n",
       "      <td>global</td>\n",
       "      <td>2018-01-26</td>\n",
       "      <td>197</td>\n",
       "      <td>The Weekend - Funk Wav Remix</td>\n",
       "      <td>SZA</td>\n",
       "      <td>614714</td>\n",
       "      <td>https://open.spotify.com/track/0P6AWOA4LG1XOct...</td>\n",
       "    </tr>\n",
       "    <tr>\n",
       "      <th>42379</th>\n",
       "      <td>global</td>\n",
       "      <td>2018-01-26</td>\n",
       "      <td>198</td>\n",
       "      <td>Stay</td>\n",
       "      <td>Zedd</td>\n",
       "      <td>612468</td>\n",
       "      <td>https://open.spotify.com/track/0I20rLT2MJDhcF9...</td>\n",
       "    </tr>\n",
       "    <tr>\n",
       "      <th>42380</th>\n",
       "      <td>global</td>\n",
       "      <td>2018-01-26</td>\n",
       "      <td>199</td>\n",
       "      <td>From Now On</td>\n",
       "      <td>Hugh Jackman</td>\n",
       "      <td>610407</td>\n",
       "      <td>https://open.spotify.com/track/3IkWmgGsXbsafru...</td>\n",
       "    </tr>\n",
       "    <tr>\n",
       "      <th>42381</th>\n",
       "      <td>global</td>\n",
       "      <td>2018-01-26</td>\n",
       "      <td>200</td>\n",
       "      <td>Explícale (feat. Bad Bunny)</td>\n",
       "      <td>Yandel</td>\n",
       "      <td>607797</td>\n",
       "      <td>https://open.spotify.com/track/1LszjjoVwDDZcWU...</td>\n",
       "    </tr>\n",
       "  </tbody>\n",
       "</table>\n",
       "<p>42382 rows × 7 columns</p>\n",
       "</div>"
      ],
      "text/plain": [
       "       region        date  Position  \\\n",
       "0      global  2017-06-29         1   \n",
       "1      global  2017-06-29         2   \n",
       "2      global  2017-06-29         3   \n",
       "3      global  2017-06-29         4   \n",
       "4      global  2017-06-29         5   \n",
       "...       ...         ...       ...   \n",
       "42377  global  2018-01-26       196   \n",
       "42378  global  2018-01-26       197   \n",
       "42379  global  2018-01-26       198   \n",
       "42380  global  2018-01-26       199   \n",
       "42381  global  2018-01-26       200   \n",
       "\n",
       "                                              Track Name            Artist  \\\n",
       "0                                      Despacito - Remix        Luis Fonsi   \n",
       "1          Wild Thoughts (feat. Rihanna & Bryson Tiller)         DJ Khaled   \n",
       "2      I'm the One (feat. Justin Bieber, Quavo, Chanc...         DJ Khaled   \n",
       "3                               2U (feat. Justin Bieber)      David Guetta   \n",
       "4                                           Shape of You        Ed Sheeran   \n",
       "...                                                  ...               ...   \n",
       "42377                                            Redbone  Childish Gambino   \n",
       "42378                       The Weekend - Funk Wav Remix               SZA   \n",
       "42379                                               Stay              Zedd   \n",
       "42380                                        From Now On      Hugh Jackman   \n",
       "42381                        Explícale (feat. Bad Bunny)            Yandel   \n",
       "\n",
       "       Streams                                                URL  \n",
       "0      5945441  https://open.spotify.com/track/5CtI0qwDJkDQGwX...  \n",
       "1      4496288  https://open.spotify.com/track/1OAh8uOEOvTDqkK...  \n",
       "2      4291359  https://open.spotify.com/track/3DXncPQOG4VBw3Q...  \n",
       "3      3849460  https://open.spotify.com/track/3A7qX2QjDlPnazU...  \n",
       "4      3492692  https://open.spotify.com/track/7qiZfU4dY1lWllz...  \n",
       "...        ...                                                ...  \n",
       "42377   623117  https://open.spotify.com/track/3kxfsdsCpFgN412...  \n",
       "42378   614714  https://open.spotify.com/track/0P6AWOA4LG1XOct...  \n",
       "42379   612468  https://open.spotify.com/track/0I20rLT2MJDhcF9...  \n",
       "42380   610407  https://open.spotify.com/track/3IkWmgGsXbsafru...  \n",
       "42381   607797  https://open.spotify.com/track/1LszjjoVwDDZcWU...  \n",
       "\n",
       "[42382 rows x 7 columns]"
      ]
     },
     "execution_count": 3,
     "metadata": {},
     "output_type": "execute_result"
    }
   ],
   "source": [
    "file_global = 'spotifycharts_20170629to20180126_global.csv'\n",
    "df = pd.read_csv(file_global)\n",
    "df"
   ]
  },
  {
   "cell_type": "markdown",
   "id": "79c6d557",
   "metadata": {},
   "source": [
    "(a)"
   ]
  },
  {
   "cell_type": "markdown",
   "id": "7c31c58d",
   "metadata": {},
   "source": [
    "Original histogram:"
   ]
  },
  {
   "cell_type": "code",
   "execution_count": 22,
   "id": "a5ddbed9",
   "metadata": {
    "scrolled": true
   },
   "outputs": [
    {
     "data": {
      "image/png": "[encoded data removed]",
      "text/plain": [
       "<Figure size 576x360 with 1 Axes>"
      ]
     },
     "metadata": {
      "needs_background": "light"
     },
     "output_type": "display_data"
    }
   ],
   "source": [
    "plt.figure(figsize=(8,5))\n",
    "plt.hist(df['Streams'], bins=200)\n",
    "plt.xlim()\n",
    "plt.title('Distribution of Streams')\n",
    "plt.xlabel('Number of Streams')\n",
    "plt.ylabel('Frequency')\n",
    "plt.show()"
   ]
  },
  {
   "cell_type": "markdown",
   "id": "d5629c36",
   "metadata": {},
   "source": [
    "With limits on axes:"
   ]
  },
  {
   "cell_type": "code",
   "execution_count": 24,
   "id": "b308852f",
   "metadata": {},
   "outputs": [
    {
     "data": {
      "image/png": "[encoded data removed]",
      "text/plain": [
       "<Figure size 576x360 with 1 Axes>"
      ]
     },
     "metadata": {
      "needs_background": "light"
     },
     "output_type": "display_data"
    }
   ],
   "source": [
    "plt.figure(figsize=(8,5))\n",
    "plt.hist(df['Streams'], bins=200)\n",
    "plt.xlim(0, 5e6)\n",
    "plt.ylim(0, 1000)\n",
    "plt.title('Distribution of Streams')\n",
    "plt.xlabel('Number of Streams')\n",
    "plt.ylabel('Frequency')\n",
    "plt.show()"
   ]
  },
  {
   "cell_type": "markdown",
   "id": "770be316",
   "metadata": {},
   "source": [
    "(b)"
   ]
  },
  {
   "cell_type": "code",
   "execution_count": 43,
   "id": "e9d42924",
   "metadata": {},
   "outputs": [
    {
     "data": {
      "image/png": "[encoded data removed]",
      "text/plain": [
       "<Figure size 576x360 with 1 Axes>"
      ]
     },
     "metadata": {
      "needs_background": "light"
     },
     "output_type": "display_data"
    },
    {
     "data": {
      "image/png": "[encoded data removed]",
      "text/plain": [
       "<Figure size 576x360 with 1 Axes>"
      ]
     },
     "metadata": {
      "needs_background": "light"
     },
     "output_type": "display_data"
    },
    {
     "data": {
      "image/png": "[encoded data removed]",
      "text/plain": [
       "<Figure size 576x360 with 1 Axes>"
      ]
     },
     "metadata": {
      "needs_background": "light"
     },
     "output_type": "display_data"
    }
   ],
   "source": [
    "# implement transformations\n",
    "df['Sqrt of Streams'] = np.sqrt(df['Streams'])\n",
    "df['Log of Streams'] = np.log(df['Streams'])\n",
    "df['BC of Streams'] = boxcox(df['Streams'])[0]\n",
    "\n",
    "# plot histograms\n",
    "\n",
    "plt.figure(figsize=(8,5))\n",
    "plt.hist(df['Sqrt of Streams'], bins=200)\n",
    "plt.xlim()\n",
    "plt.title('Distribution of Square Root of Streams')\n",
    "plt.xlabel('Number of Streams')\n",
    "plt.ylabel('Frequency')\n",
    "plt.show()\n",
    "\n",
    "plt.figure(figsize=(8,5))\n",
    "plt.hist(df['Log of Streams'], bins=200)\n",
    "plt.xlim()\n",
    "plt.title('Distribution of Log of Streams')\n",
    "plt.xlabel('Number of Streams')\n",
    "plt.ylabel('Frequency')\n",
    "plt.show()\n",
    "\n",
    "plt.figure(figsize=(8,5))\n",
    "plt.hist(df['BC of Streams'], bins=200)\n",
    "plt.xlim()\n",
    "plt.title('Distribution of Box-Cox Transformation of Streams')\n",
    "plt.xlabel('Number of Streams')\n",
    "plt.ylabel('Frequency')\n",
    "plt.show()"
   ]
  }
 ],
 "metadata": {
  "kernelspec": {
   "display_name": "Python 3",
   "language": "python",
   "name": "python3"
  },
  "language_info": {
   "codemirror_mode": {
    "name": "ipython",
    "version": 3
   },
   "file_extension": ".py",
   "mimetype": "text/x-python",
   "name": "python",
   "nbconvert_exporter": "python",
   "pygments_lexer": "ipython3",
   "version": "3.7.10"
  }
 },
 "nbformat": 4,
 "nbformat_minor": 5
}
